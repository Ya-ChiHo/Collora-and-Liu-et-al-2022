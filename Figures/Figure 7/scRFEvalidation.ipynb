{
 "cells": [
  {
   "cell_type": "code",
   "execution_count": 3,
   "metadata": {},
   "outputs": [],
   "source": [
    "import anndata\n",
    "import pandas as pd\n",
    "from imblearn.over_sampling import SMOTE\n",
    "import scipy as sc\n",
    "from scipy import io\n",
    "from scipy import sparse\n",
    "#run and test model\n",
    "from sklearn.ensemble import RandomForestClassifier\n",
    "from sklearn.model_selection import train_test_split\n",
    "from sklearn.metrics import make_scorer,precision_recall_fscore_support, classification_report\n",
    "import numpy as np\n",
    "testgenes=pd.read_csv(\"20210605top100scRFE.csv\", sep=\",\")\n",
    "testgenes=testgenes.loc[1:,:]\n",
    "testgenes=list(testgenes.nlargest(200,\"Freq\")['genes'])\n",
    "#load in data and shove in Anndata\n",
    "matrix=io.mmread(\"NormalizedJackData.mtx\").tocsr()\n",
    "cells=open(\"CellnamesJack.csv\", \"r\").read().splitlines()\n",
    "genes=open(\"GenenamesJack.csv\", \"r\").read().splitlines()\n",
    "matrix=anndata.AnnData(X=matrix.T)\n",
    "matrix.var_names=genes\n",
    "matrix.obs_names=cells\n",
    "#loading cell subsets for annotation \n",
    "jackcells=open(\"ClonesHIVJackData.csv\", \"r\").read().splitlines()\n",
    "Runxiacells=open(\"ClonesHIVRunxiaData.csv\", \"r\").read().splitlines()"
   ]
  },
  {
   "cell_type": "code",
   "execution_count": 4,
   "metadata": {},
   "outputs": [
    {
     "name": "stderr",
     "output_type": "stream",
     "text": [
      "Trying to set attribute `.obs` of view, copying.\n"
     ]
    },
    {
     "name": "stdout",
     "output_type": "stream",
     "text": [
      "              precision    recall  f1-score   support\n",
      "\n",
      "       False       1.00      0.98      0.99     62373\n",
      "        True       0.99      1.00      0.99     62373\n",
      "\n",
      "    accuracy                           0.99    124746\n",
      "   macro avg       0.99      0.99      0.99    124746\n",
      "weighted avg       0.99      0.99      0.99    124746\n",
      "\n",
      "              precision    recall  f1-score   support\n",
      "\n",
      "       False       1.00      0.98      0.99     15601\n",
      "        True       0.22      0.70      0.34        97\n",
      "\n",
      "    accuracy                           0.98     15698\n",
      "   macro avg       0.61      0.84      0.66     15698\n",
      "weighted avg       0.99      0.98      0.99     15698\n",
      "\n",
      "              precision    recall  f1-score   support\n",
      "\n",
      "       False       0.00      0.00      0.00         0\n",
      "        True       1.00      0.56      0.72       248\n",
      "\n",
      "    accuracy                           0.56       248\n",
      "   macro avg       0.50      0.28      0.36       248\n",
      "weighted avg       1.00      0.56      0.72       248\n",
      "\n"
     ]
    },
    {
     "name": "stderr",
     "output_type": "stream",
     "text": [
      "/gpfs/ysm/project/ya-chi_ho/jac369/conda_envs/sklearn2/lib/python3.8/site-packages/sklearn/metrics/_classification.py:1221: UndefinedMetricWarning: Recall and F-score are ill-defined and being set to 0.0 in labels with no true samples. Use `zero_division` parameter to control this behavior.\n",
      "  _warn_prf(average, modifier, msg_start, len(result))\n"
     ]
    }
   ],
   "source": [
    "#run and test model\n",
    "\n",
    "#step 1 subset to the select genes\n",
    "cur=matrix[:,testgenes]\n",
    "#step 2 subset to the cells of interest\n",
    "#first annotate all the HIV-1 clones\n",
    "\n",
    "cur.obs['HIVclone']=cur.obs_names.isin(Runxiacells+jackcells) \n",
    "#split off the ones from Runxia's data for final validation\n",
    "\n",
    "Runxia=cur[Runxiacells,:]\n",
    "\n",
    "notRunxia = [name for name in matrix.obs_names if name not in Runxiacells]\n",
    "cur=cur[notRunxia, :]\n",
    "#step 3 wrangle data\n",
    "\n",
    "X=sparse.csr_matrix(cur.X)\n",
    "y=cur.obs['HIVclone']\n",
    "\n",
    "X_train, X_test, y_train, y_test = train_test_split(\n",
    "     X, y, test_size=0.20, random_state=42)\n",
    "X_train, y_train = SMOTE().fit_resample(X_train, y_train)\n",
    "\n",
    "#train and test model on training data \n",
    "rf = RandomForestClassifier( random_state = 1,\n",
    "                                 n_jobs = -1, oob_score = True, min_samples_leaf =64, n_estimators =1200)\n",
    "\n",
    "rf.fit(X_train, y_train) \n",
    "\n",
    "\n",
    "pred=rf.predict(X_train)\n",
    "print(classification_report(y_train,pred))\n",
    "\n",
    "#step 4, see how it does on the test set \n",
    "\n",
    "pred=rf.predict(X_test)\n",
    "print(classification_report(y_test,pred))\n",
    "\n",
    "#step 5, how does it do on the held out set from runxia \n",
    "\n",
    "pred=rf.predict(sparse.csr_matrix(Runxia.X))\n",
    "print(classification_report(Runxia.obs['HIVclone'],pred))"
   ]
  },
  {
   "cell_type": "code",
   "execution_count": 18,
   "metadata": {},
   "outputs": [],
   "source": [
    "#generating AUC \n",
    "from sklearn.metrics import roc_curve, auc, roc_auc_score\n",
    "\n",
    "#AUC on just unstimulated data unseen\n",
    "pred=rf.predict_proba(X_train)\n",
    "fpr_train, tpr_train, thresholds_train = roc_curve(y_train,pred[:,1])\n",
    "score_train=roc_auc_score(y_train,pred[:,1])\n",
    "#AUC on the training dataset \n",
    "pred=rf.predict_proba(X_test)\n",
    "fpr_test, tpr_test, thresholds_test = roc_curve(y_test,pred[:,1])\n",
    "score_test=roc_auc_score(y_test,pred[:,1])\n",
    "\n",
    "#AUC not possible on Runxia's data because her data doesnt give us a negative class. "
   ]
  },
  {
   "cell_type": "code",
   "execution_count": 35,
   "metadata": {},
   "outputs": [
    {
     "data": {
      "image/png": "[encoded data removed]",
      "text/plain": [
       "<Figure size 432x288 with 1 Axes>"
      ]
     },
     "metadata": {
      "needs_background": "light"
     },
     "output_type": "display_data"
    }
   ],
   "source": [
    "import matplotlib.pyplot as plt\n",
    "\n",
    "plt.plot(fpr_train, tpr_train)\n",
    "plt.plot(fpr_test, tpr_test)\n",
    "plt.plot([0,1],[0,1], '--')\n",
    "\n",
    "plt.savefig('modelperformance.eps', format='eps')\n",
    "#scores are 0.9996 for train and 0.9777 for test "
   ]
  },
  {
   "cell_type": "code",
   "execution_count": 12,
   "metadata": {},
   "outputs": [],
   "source": [
    "with open(\"runxiaresultsnew.txt\", 'w') as f:\n",
    "    for value in pred: \n",
    "        f.write(str(value))\n",
    "        \n",
    "pred=rf.predict(X_test)\n",
    "print(classification_report(y_test,pred))\n",
    "\n",
    "with open(\"Jackresultsnew.txt\", 'w') as f:\n",
    "    for value in pred: \n",
    "        f.write(str(value))\n",
    "        \n",
    "y_test.to_csv(\"JackTruthnew.txt\")"
   ]
  }
 ],
 "metadata": {
  "kernelspec": {
   "display_name": "Python 3",
   "language": "python",
   "name": "python3"
  },
  "language_info": {
   "codemirror_mode": {
    "name": "ipython",
    "version": 3
   },
   "file_extension": ".py",
   "mimetype": "text/x-python",
   "name": "python",
   "nbconvert_exporter": "python",
   "pygments_lexer": "ipython3",
   "version": "3.9.5"
  }
 },
 "nbformat": 4,
 "nbformat_minor": 4
}
